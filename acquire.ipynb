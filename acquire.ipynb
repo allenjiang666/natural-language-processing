{
 "cells": [
  {
   "cell_type": "markdown",
   "metadata": {},
   "source": [
    "# Aquire Exercise\n",
    "By the end of this exercise, you should have a file named `acquire.py` that contains the specified functions. If you wish, you may break your work into separate files for each website (e.g. acquire_codeup_blog.py and acquire_news_articles.py), but the end function should be present in acquire.py (that is, acquire.py should import get_blog_articles from the acquire_codeup_blog module.)"
   ]
  },
  {
   "cell_type": "markdown",
   "metadata": {},
   "source": [
    "**Note**\n",
    "Use command F + 'class', then find the content us the class label. refer to ln [18],ln [19]"
   ]
  },
  {
   "cell_type": "code",
   "execution_count": 20,
   "metadata": {},
   "outputs": [],
   "source": [
    "from requests import get\n",
    "from bs4 import BeautifulSoup\n",
    "import pandas as pd\n",
    "import os"
   ]
  },
  {
   "cell_type": "markdown",
   "metadata": {},
   "source": [
    "Codeup Blog Articles\n",
    "\n",
    "Scrape the article text from the following pages:\n",
    "\n",
    "- https://codeup.com/codeups-data-science-career-accelerator-is-here/\n",
    "- https://codeup.com/data-science-myths/\n",
    "- https://codeup.com/data-science-vs-data-analytics-whats-the-difference/\n",
    "- https://codeup.com/10-tips-to-crush-it-at-the-sa-tech-job-fair/\n",
    "- https://codeup.com/competitor-bootcamps-are-closing-is-the-model-in-danger/\n",
    "\n",
    "Encapsulate your work in a function named get_blog_articles that will return a list of dictionaries, with each dictionary representing one article. The shape of each dictionary should look like this:\n",
    "\n",
    ">{\n",
    "    'title': 'the title of the article',  \n",
    "    'content': 'the full text content of the article'\n",
    "}\n",
    "\n",
    "Plus any additional properties you think might be helpful.\n",
    "\n",
    "Bonus:\n",
    "\n",
    "Scrape the text of all the articles linked on codeup's blog page."
   ]
  },
  {
   "cell_type": "code",
   "execution_count": 2,
   "metadata": {},
   "outputs": [],
   "source": [
    "url = 'https://codeup.com/codeups-data-science-career-accelerator-is-here/'\n",
    "headers = {'User-Agent': 'Codeup Data Science'} # Some websites don't accept the pyhon-requests default user-agent\n",
    "response = get(url, headers=headers)"
   ]
  },
  {
   "cell_type": "code",
   "execution_count": 3,
   "metadata": {},
   "outputs": [
    {
     "name": "stdout",
     "output_type": "stream",
     "text": [
      "<!DOCTYPE html><html lang=\"en-US\"><head ><meta charset=\"UTF-8\" /><meta name=\"viewport\" content=\"width=device-width, initial-scale=1\" /> <script>function fvmuag(){if(navigator.userAgent.match(/x11.*fox\\/54|oid\\s4.*xus.*ome\\/62|oobot|ighth|tmetr|eadles|ingdo/i))return!1;if(navigator.userAgent.match(/x11.*ome\\/75\\.0\\.3770\\.100/i)){var e=screen.width,t=screen.height;if(\"number\"==typeof e&&\"number\"==ty\n"
     ]
    }
   ],
   "source": [
    "print(response.text[:400])"
   ]
  },
  {
   "cell_type": "code",
   "execution_count": 4,
   "metadata": {},
   "outputs": [],
   "source": [
    "soup = BeautifulSoup(response.content, 'html.parser')"
   ]
  },
  {
   "cell_type": "code",
   "execution_count": 5,
   "metadata": {},
   "outputs": [
    {
     "data": {
      "text/plain": [
       "'Codeup’s Data Science Career Accelerator is Here! - Codeup'"
      ]
     },
     "execution_count": 5,
     "metadata": {},
     "output_type": "execute_result"
    }
   ],
   "source": [
    "title = soup.title.text\n",
    "title"
   ]
  },
  {
   "cell_type": "code",
   "execution_count": 6,
   "metadata": {},
   "outputs": [
    {
     "data": {
      "text/plain": [
       "'The rumors are true! The time has arrived. Codeup has officially opened applications to our new Data'"
      ]
     },
     "execution_count": 6,
     "metadata": {},
     "output_type": "execute_result"
    }
   ],
   "source": [
    "content = soup.find('div', class_='jupiterx-post-content')\n",
    "content.text[:100]"
   ]
  },
  {
   "cell_type": "code",
   "execution_count": 7,
   "metadata": {
    "scrolled": true
   },
   "outputs": [],
   "source": [
    "blog={'title':title,\n",
    "     'content':content}"
   ]
  },
  {
   "cell_type": "code",
   "execution_count": 8,
   "metadata": {},
   "outputs": [],
   "source": [
    "blogs=[]\n",
    "blogs.append(blog)"
   ]
  },
  {
   "cell_type": "code",
   "execution_count": 9,
   "metadata": {},
   "outputs": [],
   "source": [
    "urls = ['https://codeup.com/codeups-data-science-career-accelerator-is-here/',\n",
    "'https://codeup.com/data-science-myths/',\n",
    "'https://codeup.com/data-science-vs-data-analytics-whats-the-difference/',\n",
    "'https://codeup.com/10-tips-to-crush-it-at-the-sa-tech-job-fair/',\n",
    "'https://codeup.com/competitor-bootcamps-are-closing-is-the-model-in-danger/']"
   ]
  },
  {
   "cell_type": "code",
   "execution_count": 59,
   "metadata": {},
   "outputs": [],
   "source": [
    "def get_codeup_blogs(urls):\n",
    "    blogs=[]\n",
    "    for url in urls:\n",
    "        headers = {'User-Agent': 'Codeup Data Science'} # Some websites don't accept the pyhon-requests default user-agent\n",
    "        response = get(url, headers=headers)\n",
    "        soup = BeautifulSoup(response.content, 'html.parser')\n",
    "        title = soup.title.text\n",
    "        content = soup.find('div', class_='jupiterx-post-content').text\n",
    "        blog={'title':title,'content':content}\n",
    "        blogs.append(blog)\n",
    "    return pd.DataFrame(blogs)\n",
    "    \n",
    "    "
   ]
  },
  {
   "cell_type": "code",
   "execution_count": 62,
   "metadata": {
    "scrolled": true
   },
   "outputs": [],
   "source": [
    "def acquire_codeup_blogs():\n",
    "    if os.path.exists('codeup_blogs.csv'):\n",
    "        df = pd.read_csv('codeup_blogs.csv',  index_col=0)\n",
    "    else:\n",
    "        df = get_codeup_blogs(urls)\n",
    "        df.to_csv('codeup_blogs.csv')\n",
    "    return df"
   ]
  },
  {
   "cell_type": "code",
   "execution_count": 63,
   "metadata": {},
   "outputs": [
    {
     "data": {
      "text/html": [
       "<div>\n",
       "<style scoped>\n",
       "    .dataframe tbody tr th:only-of-type {\n",
       "        vertical-align: middle;\n",
       "    }\n",
       "\n",
       "    .dataframe tbody tr th {\n",
       "        vertical-align: top;\n",
       "    }\n",
       "\n",
       "    .dataframe thead th {\n",
       "        text-align: right;\n",
       "    }\n",
       "</style>\n",
       "<table border=\"1\" class=\"dataframe\">\n",
       "  <thead>\n",
       "    <tr style=\"text-align: right;\">\n",
       "      <th></th>\n",
       "      <th>title</th>\n",
       "      <th>content</th>\n",
       "    </tr>\n",
       "  </thead>\n",
       "  <tbody>\n",
       "    <tr>\n",
       "      <td>0</td>\n",
       "      <td>Codeup’s Data Science Career Accelerator is He...</td>\n",
       "      <td>The rumors are true! The time has arrived. Cod...</td>\n",
       "    </tr>\n",
       "    <tr>\n",
       "      <td>1</td>\n",
       "      <td>Data Science Myths - Codeup</td>\n",
       "      <td>By Dimitri Antoniou and Maggie GiustData Scien...</td>\n",
       "    </tr>\n",
       "    <tr>\n",
       "      <td>2</td>\n",
       "      <td>Data Science VS Data Analytics: What’s The Dif...</td>\n",
       "      <td>By Dimitri AntoniouA week ago, Codeup launched...</td>\n",
       "    </tr>\n",
       "    <tr>\n",
       "      <td>3</td>\n",
       "      <td>10 Tips to Crush It at the SA Tech Job Fair - ...</td>\n",
       "      <td>10 Tips to Crush It at the SA Tech Job FairSA ...</td>\n",
       "    </tr>\n",
       "    <tr>\n",
       "      <td>4</td>\n",
       "      <td>Competitor Bootcamps Are Closing. Is the Model...</td>\n",
       "      <td>Competitor Bootcamps Are Closing. Is the Model...</td>\n",
       "    </tr>\n",
       "  </tbody>\n",
       "</table>\n",
       "</div>"
      ],
      "text/plain": [
       "                                               title  \\\n",
       "0  Codeup’s Data Science Career Accelerator is He...   \n",
       "1                        Data Science Myths - Codeup   \n",
       "2  Data Science VS Data Analytics: What’s The Dif...   \n",
       "3  10 Tips to Crush It at the SA Tech Job Fair - ...   \n",
       "4  Competitor Bootcamps Are Closing. Is the Model...   \n",
       "\n",
       "                                             content  \n",
       "0  The rumors are true! The time has arrived. Cod...  \n",
       "1  By Dimitri Antoniou and Maggie GiustData Scien...  \n",
       "2  By Dimitri AntoniouA week ago, Codeup launched...  \n",
       "3  10 Tips to Crush It at the SA Tech Job FairSA ...  \n",
       "4  Competitor Bootcamps Are Closing. Is the Model...  "
      ]
     },
     "execution_count": 63,
     "metadata": {},
     "output_type": "execute_result"
    }
   ],
   "source": [
    "acquire_codeup_blogs()"
   ]
  },
  {
   "cell_type": "markdown",
   "metadata": {},
   "source": [
    "# Exercise 2\n",
    "News Articles\n",
    "\n",
    "We will now be scraping text data from inshorts, a website that provides a brief overview of many different topics.\n",
    "\n",
    "Write a function that scrapes the news articles for the following topics:\n",
    "\n",
    "- Business\n",
    "- Sports\n",
    "- Technology\n",
    "- Entertainment\n",
    "\n",
    "The end product of this should be a function named get_news_articles that returns a list of dictionaries, where each dictionary has this shape:\n",
    "\n",
    "> {  \n",
    "    'title': 'The article title',  \n",
    "    'content': 'The article content',  \n",
    "    'category': 'business' # for example  \n",
    "}\n",
    "\n",
    "Hints:\n",
    "\n",
    "1. Start by inspecting the website in your browser. Figure out which elements will be useful.\n",
    "2. Start by creating a function that handles a single article and produces a dictionary like the one above.\n",
    "3. Next create a function that will find all the articles on a single page and call the function you created in the last step for every article on the page.\n",
    "4. Now create a function that will use the previous two functions to scrape the articles from all the pages that you need, and do any additional processing that needs to be done.\n"
   ]
  },
  {
   "cell_type": "code",
   "execution_count": 12,
   "metadata": {},
   "outputs": [],
   "source": [
    "url = 'https://inshorts.com/en/read/entertainment'\n",
    "headers = {'User-Agent': 'Codeup Data Science'} # Some websites don't accept the pyhon-requests default user-agent\n",
    "response = get(url, headers=headers)"
   ]
  },
  {
   "cell_type": "code",
   "execution_count": 44,
   "metadata": {},
   "outputs": [],
   "source": [
    "#creat a soup object\n",
    "soup = BeautifulSoup(response.content, 'html.parser')"
   ]
  },
  {
   "cell_type": "markdown",
   "metadata": {},
   "source": [
    "Class = 'news-card z-depth-1' alternative "
   ]
  },
  {
   "cell_type": "code",
   "execution_count": 14,
   "metadata": {
    "scrolled": false
   },
   "outputs": [],
   "source": [
    "#inspect webset and find the correspond part\n",
    "cards = soup.find_all('div', class_='news-card')"
   ]
  },
  {
   "cell_type": "code",
   "execution_count": 29,
   "metadata": {},
   "outputs": [
    {
     "data": {
      "text/plain": [
       "'Tamil director Adhin Ollur donates his liver to ailing father, shares pics on FB'"
      ]
     },
     "execution_count": 29,
     "metadata": {},
     "output_type": "execute_result"
    }
   ],
   "source": [
    "title = cards[0].find('span', itemprop='headline').text\n",
    "title"
   ]
  },
  {
   "cell_type": "code",
   "execution_count": 31,
   "metadata": {},
   "outputs": [
    {
     "data": {
      "text/plain": [
       "'Tamil film director Adhin Ollur recently revealed that he donated his liver to his ailing father. Taking to Facebook, Adhin wrote, \"I think this is the right time to inform you guys that I got a lucky super chance to donate liver to my father. Surgery was on May 18. Now, we are perfectly alright.\"'"
      ]
     },
     "execution_count": 31,
     "metadata": {},
     "output_type": "execute_result"
    }
   ],
   "source": [
    "content = cards[0].find('div', itemprop='articleBody').text\n",
    "content"
   ]
  },
  {
   "cell_type": "code",
   "execution_count": 33,
   "metadata": {},
   "outputs": [
    {
     "data": {
      "text/plain": [
       "'Anmol Sharma'"
      ]
     },
     "execution_count": 33,
     "metadata": {},
     "output_type": "execute_result"
    }
   ],
   "source": [
    "author = cards[0].find('span', class_='author').text\n",
    "author"
   ]
  },
  {
   "cell_type": "code",
   "execution_count": 45,
   "metadata": {},
   "outputs": [],
   "source": [
    "def acquire_news(topic:str):\n",
    "    url = 'https://inshorts.com/en/read/'+topic\n",
    "    headers = {'User-Agent': 'Codeup Data Science'} \n",
    "    response = get(url, headers=headers)\n",
    "    news=[]\n",
    "    for card in cards:\n",
    "        title = card.find('span', itemprop='headline').text\n",
    "        content = card.find('div', itemprop='articleBody').text\n",
    "        author = card.find('span', class_='author').text\n",
    "        article={\n",
    "            'title': title,\n",
    "            'author': author,\n",
    "            'content': content,\n",
    "            'category': topic\n",
    "            }\n",
    "        news.append(article)\n",
    "    return news\n"
   ]
  },
  {
   "cell_type": "code",
   "execution_count": 47,
   "metadata": {},
   "outputs": [
    {
     "data": {
      "text/html": [
       "<div>\n",
       "<style scoped>\n",
       "    .dataframe tbody tr th:only-of-type {\n",
       "        vertical-align: middle;\n",
       "    }\n",
       "\n",
       "    .dataframe tbody tr th {\n",
       "        vertical-align: top;\n",
       "    }\n",
       "\n",
       "    .dataframe thead th {\n",
       "        text-align: right;\n",
       "    }\n",
       "</style>\n",
       "<table border=\"1\" class=\"dataframe\">\n",
       "  <thead>\n",
       "    <tr style=\"text-align: right;\">\n",
       "      <th></th>\n",
       "      <th>title</th>\n",
       "      <th>author</th>\n",
       "      <th>content</th>\n",
       "      <th>category</th>\n",
       "    </tr>\n",
       "  </thead>\n",
       "  <tbody>\n",
       "    <tr>\n",
       "      <td>0</td>\n",
       "      <td>Tamil director Adhin Ollur donates his liver t...</td>\n",
       "      <td>Anmol Sharma</td>\n",
       "      <td>Tamil film director Adhin Ollur recently revea...</td>\n",
       "      <td>entertainment</td>\n",
       "    </tr>\n",
       "    <tr>\n",
       "      <td>1</td>\n",
       "      <td>Fake till end: Akshay on report that he booked...</td>\n",
       "      <td>Arshiya Chopra</td>\n",
       "      <td>Akshay Kumar took to Twitter to dismiss media ...</td>\n",
       "      <td>entertainment</td>\n",
       "    </tr>\n",
       "    <tr>\n",
       "      <td>2</td>\n",
       "      <td>Zaira back on social media a day after quittin...</td>\n",
       "      <td>Daisy Mowke</td>\n",
       "      <td>Zaira Wasim, who deactivated her Instagram and...</td>\n",
       "      <td>entertainment</td>\n",
       "    </tr>\n",
       "    <tr>\n",
       "      <td>3</td>\n",
       "      <td>Elon Musk, Grimes give their baby 'X Æ A-Xii' ...</td>\n",
       "      <td>Dharna</td>\n",
       "      <td>In an interview with Bloomberg, Grimes reveale...</td>\n",
       "      <td>entertainment</td>\n",
       "    </tr>\n",
       "    <tr>\n",
       "      <td>4</td>\n",
       "      <td>Sara Ali Khan shares weight loss video, captio...</td>\n",
       "      <td>Ankush Verma</td>\n",
       "      <td>Sara Ali Khan shared a video of her weight los...</td>\n",
       "      <td>entertainment</td>\n",
       "    </tr>\n",
       "    <tr>\n",
       "      <td>5</td>\n",
       "      <td>Taylor Swift's 'we’ll vote Trump out' post bec...</td>\n",
       "      <td>Arshiya Chopra</td>\n",
       "      <td>Taylor Swift's tweet criticising US President ...</td>\n",
       "      <td>entertainment</td>\n",
       "    </tr>\n",
       "    <tr>\n",
       "      <td>6</td>\n",
       "      <td>Hardik Pandya reveals fiancée Nataša is pregna...</td>\n",
       "      <td>Anmol Sharma</td>\n",
       "      <td>All-rounder Hardik Pandya took to Instagram to...</td>\n",
       "      <td>entertainment</td>\n",
       "    </tr>\n",
       "    <tr>\n",
       "      <td>7</td>\n",
       "      <td>I enjoy action a lot &amp; hope to be an action ic...</td>\n",
       "      <td>Udit Gupta</td>\n",
       "      <td>Jacqueline Fernandez, who has worked in films ...</td>\n",
       "      <td>entertainment</td>\n",
       "    </tr>\n",
       "    <tr>\n",
       "      <td>8</td>\n",
       "      <td>Was clinically depressed: Katy on Witness albu...</td>\n",
       "      <td>Vidushi Mishra</td>\n",
       "      <td>American singer Katy Perry recently revealed s...</td>\n",
       "      <td>entertainment</td>\n",
       "    </tr>\n",
       "    <tr>\n",
       "      <td>9</td>\n",
       "      <td>Machine Gun Kelly protests George Floyd's deat...</td>\n",
       "      <td>Vidushi Mishra</td>\n",
       "      <td>American rapper-singer on Saturday joined the ...</td>\n",
       "      <td>entertainment</td>\n",
       "    </tr>\n",
       "    <tr>\n",
       "      <td>10</td>\n",
       "      <td>'Thalaivi' director AL Vijay, wife blessed wit...</td>\n",
       "      <td>Vidushi Mishra</td>\n",
       "      <td>Kollywood filmmaker AL Vijay and wife R Aishwa...</td>\n",
       "      <td>entertainment</td>\n",
       "    </tr>\n",
       "    <tr>\n",
       "      <td>11</td>\n",
       "      <td>Actor files case against Devoleena's fans over...</td>\n",
       "      <td>Vidushi Mishra</td>\n",
       "      <td>Days after filing a cybercrime complaint again...</td>\n",
       "      <td>entertainment</td>\n",
       "    </tr>\n",
       "    <tr>\n",
       "      <td>12</td>\n",
       "      <td>Much love for new age, non-mythical superhero:...</td>\n",
       "      <td>Udit Gupta</td>\n",
       "      <td>Kubbra Sait took to Twitter to appreciate Sonu...</td>\n",
       "      <td>entertainment</td>\n",
       "    </tr>\n",
       "    <tr>\n",
       "      <td>13</td>\n",
       "      <td>Will consciously stop using things that are Ch...</td>\n",
       "      <td>Vidushi Mishra</td>\n",
       "      <td>Actor Arshad Warsi has said that he is \"consci...</td>\n",
       "      <td>entertainment</td>\n",
       "    </tr>\n",
       "    <tr>\n",
       "      <td>14</td>\n",
       "      <td>Chrissy pledges ₹1.5cr to bail out protestors ...</td>\n",
       "      <td>Vidushi Mishra</td>\n",
       "      <td>Chrissy Teigen has pledged to donate $200,000 ...</td>\n",
       "      <td>entertainment</td>\n",
       "    </tr>\n",
       "    <tr>\n",
       "      <td>15</td>\n",
       "      <td>It still fits: Pamela Anderson on her Baywatch...</td>\n",
       "      <td>Vidushi Mishra</td>\n",
       "      <td>Pamela Anderson has shared that 23 years later...</td>\n",
       "      <td>entertainment</td>\n",
       "    </tr>\n",
       "    <tr>\n",
       "      <td>16</td>\n",
       "      <td>We used to shoot under heavy lights without AC...</td>\n",
       "      <td>Udit Gupta</td>\n",
       "      <td>Shekhar Suman, while recalling the shooting of...</td>\n",
       "      <td>entertainment</td>\n",
       "    </tr>\n",
       "    <tr>\n",
       "      <td>17</td>\n",
       "      <td>I was with Kapil's wife during her delivery, w...</td>\n",
       "      <td>Udit Gupta</td>\n",
       "      <td>Bharti Singh has said she's very close to Kapi...</td>\n",
       "      <td>entertainment</td>\n",
       "    </tr>\n",
       "    <tr>\n",
       "      <td>18</td>\n",
       "      <td>You'll be remembered by generations to come: S...</td>\n",
       "      <td>Vidushi Mishra</td>\n",
       "      <td>Calling Sonu Sood a \"superhero\" for helping mi...</td>\n",
       "      <td>entertainment</td>\n",
       "    </tr>\n",
       "    <tr>\n",
       "      <td>19</td>\n",
       "      <td>Sood meets Maha Guv; Guv assures support in he...</td>\n",
       "      <td>Vidushi Mishra</td>\n",
       "      <td>Actor Sonu Sood met Maharashtra Governor Bhaga...</td>\n",
       "      <td>entertainment</td>\n",
       "    </tr>\n",
       "    <tr>\n",
       "      <td>20</td>\n",
       "      <td>Some actors are scarier than the roles they do...</td>\n",
       "      <td>Vidushi Mishra</td>\n",
       "      <td>Nawazuddin Siddiqui's estranged wife Aaliya Si...</td>\n",
       "      <td>entertainment</td>\n",
       "    </tr>\n",
       "    <tr>\n",
       "      <td>21</td>\n",
       "      <td>Void will stay forever: Taapsee on grandmother...</td>\n",
       "      <td>Vidushi Mishra</td>\n",
       "      <td>Actress Taapsee Pannu's paternal grandmother h...</td>\n",
       "      <td>entertainment</td>\n",
       "    </tr>\n",
       "    <tr>\n",
       "      <td>22</td>\n",
       "      <td>We will miss buzz of Friday release: Sharad Ke...</td>\n",
       "      <td>Udit Gupta</td>\n",
       "      <td>Sharad Kelkar, while talking about the online ...</td>\n",
       "      <td>entertainment</td>\n",
       "    </tr>\n",
       "    <tr>\n",
       "      <td>23</td>\n",
       "      <td>E-concerts will become a thing and will get ev...</td>\n",
       "      <td>Kiran Khatri</td>\n",
       "      <td>Sachin Sanghvi, of the music composing duo Sac...</td>\n",
       "      <td>entertainment</td>\n",
       "    </tr>\n",
       "  </tbody>\n",
       "</table>\n",
       "</div>"
      ],
      "text/plain": [
       "                                                title          author  \\\n",
       "0   Tamil director Adhin Ollur donates his liver t...    Anmol Sharma   \n",
       "1   Fake till end: Akshay on report that he booked...  Arshiya Chopra   \n",
       "2   Zaira back on social media a day after quittin...     Daisy Mowke   \n",
       "3   Elon Musk, Grimes give their baby 'X Æ A-Xii' ...          Dharna   \n",
       "4   Sara Ali Khan shares weight loss video, captio...    Ankush Verma   \n",
       "5   Taylor Swift's 'we’ll vote Trump out' post bec...  Arshiya Chopra   \n",
       "6   Hardik Pandya reveals fiancée Nataša is pregna...    Anmol Sharma   \n",
       "7   I enjoy action a lot & hope to be an action ic...      Udit Gupta   \n",
       "8   Was clinically depressed: Katy on Witness albu...  Vidushi Mishra   \n",
       "9   Machine Gun Kelly protests George Floyd's deat...  Vidushi Mishra   \n",
       "10  'Thalaivi' director AL Vijay, wife blessed wit...  Vidushi Mishra   \n",
       "11  Actor files case against Devoleena's fans over...  Vidushi Mishra   \n",
       "12  Much love for new age, non-mythical superhero:...      Udit Gupta   \n",
       "13  Will consciously stop using things that are Ch...  Vidushi Mishra   \n",
       "14  Chrissy pledges ₹1.5cr to bail out protestors ...  Vidushi Mishra   \n",
       "15  It still fits: Pamela Anderson on her Baywatch...  Vidushi Mishra   \n",
       "16  We used to shoot under heavy lights without AC...      Udit Gupta   \n",
       "17  I was with Kapil's wife during her delivery, w...      Udit Gupta   \n",
       "18  You'll be remembered by generations to come: S...  Vidushi Mishra   \n",
       "19  Sood meets Maha Guv; Guv assures support in he...  Vidushi Mishra   \n",
       "20  Some actors are scarier than the roles they do...  Vidushi Mishra   \n",
       "21  Void will stay forever: Taapsee on grandmother...  Vidushi Mishra   \n",
       "22  We will miss buzz of Friday release: Sharad Ke...      Udit Gupta   \n",
       "23  E-concerts will become a thing and will get ev...    Kiran Khatri   \n",
       "\n",
       "                                              content       category  \n",
       "0   Tamil film director Adhin Ollur recently revea...  entertainment  \n",
       "1   Akshay Kumar took to Twitter to dismiss media ...  entertainment  \n",
       "2   Zaira Wasim, who deactivated her Instagram and...  entertainment  \n",
       "3   In an interview with Bloomberg, Grimes reveale...  entertainment  \n",
       "4   Sara Ali Khan shared a video of her weight los...  entertainment  \n",
       "5   Taylor Swift's tweet criticising US President ...  entertainment  \n",
       "6   All-rounder Hardik Pandya took to Instagram to...  entertainment  \n",
       "7   Jacqueline Fernandez, who has worked in films ...  entertainment  \n",
       "8   American singer Katy Perry recently revealed s...  entertainment  \n",
       "9   American rapper-singer on Saturday joined the ...  entertainment  \n",
       "10  Kollywood filmmaker AL Vijay and wife R Aishwa...  entertainment  \n",
       "11  Days after filing a cybercrime complaint again...  entertainment  \n",
       "12  Kubbra Sait took to Twitter to appreciate Sonu...  entertainment  \n",
       "13  Actor Arshad Warsi has said that he is \"consci...  entertainment  \n",
       "14  Chrissy Teigen has pledged to donate $200,000 ...  entertainment  \n",
       "15  Pamela Anderson has shared that 23 years later...  entertainment  \n",
       "16  Shekhar Suman, while recalling the shooting of...  entertainment  \n",
       "17  Bharti Singh has said she's very close to Kapi...  entertainment  \n",
       "18  Calling Sonu Sood a \"superhero\" for helping mi...  entertainment  \n",
       "19  Actor Sonu Sood met Maharashtra Governor Bhaga...  entertainment  \n",
       "20  Nawazuddin Siddiqui's estranged wife Aaliya Si...  entertainment  \n",
       "21  Actress Taapsee Pannu's paternal grandmother h...  entertainment  \n",
       "22  Sharad Kelkar, while talking about the online ...  entertainment  \n",
       "23  Sachin Sanghvi, of the music composing duo Sac...  entertainment  "
      ]
     },
     "execution_count": 47,
     "metadata": {},
     "output_type": "execute_result"
    }
   ],
   "source": [
    "pd.DataFrame(acquire_news('entertainment'))"
   ]
  },
  {
   "cell_type": "code",
   "execution_count": 52,
   "metadata": {},
   "outputs": [],
   "source": [
    "def get_inshort_news():\n",
    "    topics = ['business', 'sports', 'technology', 'entertainment']\n",
    "    news=[]\n",
    "    for topic in topics:\n",
    "        news += acquire_news(topic)\n",
    "    return pd.DataFrame(news)"
   ]
  },
  {
   "cell_type": "code",
   "execution_count": 54,
   "metadata": {},
   "outputs": [
    {
     "data": {
      "text/html": [
       "<div>\n",
       "<style scoped>\n",
       "    .dataframe tbody tr th:only-of-type {\n",
       "        vertical-align: middle;\n",
       "    }\n",
       "\n",
       "    .dataframe tbody tr th {\n",
       "        vertical-align: top;\n",
       "    }\n",
       "\n",
       "    .dataframe thead th {\n",
       "        text-align: right;\n",
       "    }\n",
       "</style>\n",
       "<table border=\"1\" class=\"dataframe\">\n",
       "  <thead>\n",
       "    <tr style=\"text-align: right;\">\n",
       "      <th></th>\n",
       "      <th>title</th>\n",
       "      <th>author</th>\n",
       "      <th>content</th>\n",
       "      <th>category</th>\n",
       "    </tr>\n",
       "  </thead>\n",
       "  <tbody>\n",
       "    <tr>\n",
       "      <td>0</td>\n",
       "      <td>Tamil director Adhin Ollur donates his liver t...</td>\n",
       "      <td>Anmol Sharma</td>\n",
       "      <td>Tamil film director Adhin Ollur recently revea...</td>\n",
       "      <td>business</td>\n",
       "    </tr>\n",
       "    <tr>\n",
       "      <td>1</td>\n",
       "      <td>Fake till end: Akshay on report that he booked...</td>\n",
       "      <td>Arshiya Chopra</td>\n",
       "      <td>Akshay Kumar took to Twitter to dismiss media ...</td>\n",
       "      <td>business</td>\n",
       "    </tr>\n",
       "    <tr>\n",
       "      <td>2</td>\n",
       "      <td>Zaira back on social media a day after quittin...</td>\n",
       "      <td>Daisy Mowke</td>\n",
       "      <td>Zaira Wasim, who deactivated her Instagram and...</td>\n",
       "      <td>business</td>\n",
       "    </tr>\n",
       "    <tr>\n",
       "      <td>3</td>\n",
       "      <td>Elon Musk, Grimes give their baby 'X Æ A-Xii' ...</td>\n",
       "      <td>Dharna</td>\n",
       "      <td>In an interview with Bloomberg, Grimes reveale...</td>\n",
       "      <td>business</td>\n",
       "    </tr>\n",
       "    <tr>\n",
       "      <td>4</td>\n",
       "      <td>Sara Ali Khan shares weight loss video, captio...</td>\n",
       "      <td>Ankush Verma</td>\n",
       "      <td>Sara Ali Khan shared a video of her weight los...</td>\n",
       "      <td>business</td>\n",
       "    </tr>\n",
       "    <tr>\n",
       "      <td>...</td>\n",
       "      <td>...</td>\n",
       "      <td>...</td>\n",
       "      <td>...</td>\n",
       "      <td>...</td>\n",
       "    </tr>\n",
       "    <tr>\n",
       "      <td>91</td>\n",
       "      <td>Sood meets Maha Guv; Guv assures support in he...</td>\n",
       "      <td>Vidushi Mishra</td>\n",
       "      <td>Actor Sonu Sood met Maharashtra Governor Bhaga...</td>\n",
       "      <td>entertainment</td>\n",
       "    </tr>\n",
       "    <tr>\n",
       "      <td>92</td>\n",
       "      <td>Some actors are scarier than the roles they do...</td>\n",
       "      <td>Vidushi Mishra</td>\n",
       "      <td>Nawazuddin Siddiqui's estranged wife Aaliya Si...</td>\n",
       "      <td>entertainment</td>\n",
       "    </tr>\n",
       "    <tr>\n",
       "      <td>93</td>\n",
       "      <td>Void will stay forever: Taapsee on grandmother...</td>\n",
       "      <td>Vidushi Mishra</td>\n",
       "      <td>Actress Taapsee Pannu's paternal grandmother h...</td>\n",
       "      <td>entertainment</td>\n",
       "    </tr>\n",
       "    <tr>\n",
       "      <td>94</td>\n",
       "      <td>We will miss buzz of Friday release: Sharad Ke...</td>\n",
       "      <td>Udit Gupta</td>\n",
       "      <td>Sharad Kelkar, while talking about the online ...</td>\n",
       "      <td>entertainment</td>\n",
       "    </tr>\n",
       "    <tr>\n",
       "      <td>95</td>\n",
       "      <td>E-concerts will become a thing and will get ev...</td>\n",
       "      <td>Kiran Khatri</td>\n",
       "      <td>Sachin Sanghvi, of the music composing duo Sac...</td>\n",
       "      <td>entertainment</td>\n",
       "    </tr>\n",
       "  </tbody>\n",
       "</table>\n",
       "<p>96 rows × 4 columns</p>\n",
       "</div>"
      ],
      "text/plain": [
       "                                                title          author  \\\n",
       "0   Tamil director Adhin Ollur donates his liver t...    Anmol Sharma   \n",
       "1   Fake till end: Akshay on report that he booked...  Arshiya Chopra   \n",
       "2   Zaira back on social media a day after quittin...     Daisy Mowke   \n",
       "3   Elon Musk, Grimes give their baby 'X Æ A-Xii' ...          Dharna   \n",
       "4   Sara Ali Khan shares weight loss video, captio...    Ankush Verma   \n",
       "..                                                ...             ...   \n",
       "91  Sood meets Maha Guv; Guv assures support in he...  Vidushi Mishra   \n",
       "92  Some actors are scarier than the roles they do...  Vidushi Mishra   \n",
       "93  Void will stay forever: Taapsee on grandmother...  Vidushi Mishra   \n",
       "94  We will miss buzz of Friday release: Sharad Ke...      Udit Gupta   \n",
       "95  E-concerts will become a thing and will get ev...    Kiran Khatri   \n",
       "\n",
       "                                              content       category  \n",
       "0   Tamil film director Adhin Ollur recently revea...       business  \n",
       "1   Akshay Kumar took to Twitter to dismiss media ...       business  \n",
       "2   Zaira Wasim, who deactivated her Instagram and...       business  \n",
       "3   In an interview with Bloomberg, Grimes reveale...       business  \n",
       "4   Sara Ali Khan shared a video of her weight los...       business  \n",
       "..                                                ...            ...  \n",
       "91  Actor Sonu Sood met Maharashtra Governor Bhaga...  entertainment  \n",
       "92  Nawazuddin Siddiqui's estranged wife Aaliya Si...  entertainment  \n",
       "93  Actress Taapsee Pannu's paternal grandmother h...  entertainment  \n",
       "94  Sharad Kelkar, while talking about the online ...  entertainment  \n",
       "95  Sachin Sanghvi, of the music composing duo Sac...  entertainment  \n",
       "\n",
       "[96 rows x 4 columns]"
      ]
     },
     "execution_count": 54,
     "metadata": {},
     "output_type": "execute_result"
    }
   ],
   "source": [
    "get_inshort_news()"
   ]
  },
  {
   "cell_type": "code",
   "execution_count": 57,
   "metadata": {},
   "outputs": [],
   "source": [
    "def acquire_inshorts_news():\n",
    "    if os.path.exists('inshort_news.csv'):\n",
    "        df = pd.read_csv('inshort_news.csv',  index_col=0)\n",
    "    else:\n",
    "        df = get_inshort_news()\n",
    "        df.to_csv('inshort_news.csv')\n",
    "    return df"
   ]
  },
  {
   "cell_type": "code",
   "execution_count": 58,
   "metadata": {},
   "outputs": [
    {
     "data": {
      "text/html": [
       "<div>\n",
       "<style scoped>\n",
       "    .dataframe tbody tr th:only-of-type {\n",
       "        vertical-align: middle;\n",
       "    }\n",
       "\n",
       "    .dataframe tbody tr th {\n",
       "        vertical-align: top;\n",
       "    }\n",
       "\n",
       "    .dataframe thead th {\n",
       "        text-align: right;\n",
       "    }\n",
       "</style>\n",
       "<table border=\"1\" class=\"dataframe\">\n",
       "  <thead>\n",
       "    <tr style=\"text-align: right;\">\n",
       "      <th></th>\n",
       "      <th>title</th>\n",
       "      <th>author</th>\n",
       "      <th>content</th>\n",
       "      <th>category</th>\n",
       "    </tr>\n",
       "  </thead>\n",
       "  <tbody>\n",
       "    <tr>\n",
       "      <td>0</td>\n",
       "      <td>Tamil director Adhin Ollur donates his liver t...</td>\n",
       "      <td>Anmol Sharma</td>\n",
       "      <td>Tamil film director Adhin Ollur recently revea...</td>\n",
       "      <td>business</td>\n",
       "    </tr>\n",
       "    <tr>\n",
       "      <td>1</td>\n",
       "      <td>Fake till end: Akshay on report that he booked...</td>\n",
       "      <td>Arshiya Chopra</td>\n",
       "      <td>Akshay Kumar took to Twitter to dismiss media ...</td>\n",
       "      <td>business</td>\n",
       "    </tr>\n",
       "    <tr>\n",
       "      <td>2</td>\n",
       "      <td>Zaira back on social media a day after quittin...</td>\n",
       "      <td>Daisy Mowke</td>\n",
       "      <td>Zaira Wasim, who deactivated her Instagram and...</td>\n",
       "      <td>business</td>\n",
       "    </tr>\n",
       "    <tr>\n",
       "      <td>3</td>\n",
       "      <td>Elon Musk, Grimes give their baby 'X Æ A-Xii' ...</td>\n",
       "      <td>Dharna</td>\n",
       "      <td>In an interview with Bloomberg, Grimes reveale...</td>\n",
       "      <td>business</td>\n",
       "    </tr>\n",
       "    <tr>\n",
       "      <td>4</td>\n",
       "      <td>Sara Ali Khan shares weight loss video, captio...</td>\n",
       "      <td>Ankush Verma</td>\n",
       "      <td>Sara Ali Khan shared a video of her weight los...</td>\n",
       "      <td>business</td>\n",
       "    </tr>\n",
       "    <tr>\n",
       "      <td>...</td>\n",
       "      <td>...</td>\n",
       "      <td>...</td>\n",
       "      <td>...</td>\n",
       "      <td>...</td>\n",
       "    </tr>\n",
       "    <tr>\n",
       "      <td>91</td>\n",
       "      <td>Sood meets Maha Guv; Guv assures support in he...</td>\n",
       "      <td>Vidushi Mishra</td>\n",
       "      <td>Actor Sonu Sood met Maharashtra Governor Bhaga...</td>\n",
       "      <td>entertainment</td>\n",
       "    </tr>\n",
       "    <tr>\n",
       "      <td>92</td>\n",
       "      <td>Some actors are scarier than the roles they do...</td>\n",
       "      <td>Vidushi Mishra</td>\n",
       "      <td>Nawazuddin Siddiqui's estranged wife Aaliya Si...</td>\n",
       "      <td>entertainment</td>\n",
       "    </tr>\n",
       "    <tr>\n",
       "      <td>93</td>\n",
       "      <td>Void will stay forever: Taapsee on grandmother...</td>\n",
       "      <td>Vidushi Mishra</td>\n",
       "      <td>Actress Taapsee Pannu's paternal grandmother h...</td>\n",
       "      <td>entertainment</td>\n",
       "    </tr>\n",
       "    <tr>\n",
       "      <td>94</td>\n",
       "      <td>We will miss buzz of Friday release: Sharad Ke...</td>\n",
       "      <td>Udit Gupta</td>\n",
       "      <td>Sharad Kelkar, while talking about the online ...</td>\n",
       "      <td>entertainment</td>\n",
       "    </tr>\n",
       "    <tr>\n",
       "      <td>95</td>\n",
       "      <td>E-concerts will become a thing and will get ev...</td>\n",
       "      <td>Kiran Khatri</td>\n",
       "      <td>Sachin Sanghvi, of the music composing duo Sac...</td>\n",
       "      <td>entertainment</td>\n",
       "    </tr>\n",
       "  </tbody>\n",
       "</table>\n",
       "<p>96 rows × 4 columns</p>\n",
       "</div>"
      ],
      "text/plain": [
       "                                                title          author  \\\n",
       "0   Tamil director Adhin Ollur donates his liver t...    Anmol Sharma   \n",
       "1   Fake till end: Akshay on report that he booked...  Arshiya Chopra   \n",
       "2   Zaira back on social media a day after quittin...     Daisy Mowke   \n",
       "3   Elon Musk, Grimes give their baby 'X Æ A-Xii' ...          Dharna   \n",
       "4   Sara Ali Khan shares weight loss video, captio...    Ankush Verma   \n",
       "..                                                ...             ...   \n",
       "91  Sood meets Maha Guv; Guv assures support in he...  Vidushi Mishra   \n",
       "92  Some actors are scarier than the roles they do...  Vidushi Mishra   \n",
       "93  Void will stay forever: Taapsee on grandmother...  Vidushi Mishra   \n",
       "94  We will miss buzz of Friday release: Sharad Ke...      Udit Gupta   \n",
       "95  E-concerts will become a thing and will get ev...    Kiran Khatri   \n",
       "\n",
       "                                              content       category  \n",
       "0   Tamil film director Adhin Ollur recently revea...       business  \n",
       "1   Akshay Kumar took to Twitter to dismiss media ...       business  \n",
       "2   Zaira Wasim, who deactivated her Instagram and...       business  \n",
       "3   In an interview with Bloomberg, Grimes reveale...       business  \n",
       "4   Sara Ali Khan shared a video of her weight los...       business  \n",
       "..                                                ...            ...  \n",
       "91  Actor Sonu Sood met Maharashtra Governor Bhaga...  entertainment  \n",
       "92  Nawazuddin Siddiqui's estranged wife Aaliya Si...  entertainment  \n",
       "93  Actress Taapsee Pannu's paternal grandmother h...  entertainment  \n",
       "94  Sharad Kelkar, while talking about the online ...  entertainment  \n",
       "95  Sachin Sanghvi, of the music composing duo Sac...  entertainment  \n",
       "\n",
       "[96 rows x 4 columns]"
      ]
     },
     "execution_count": 58,
     "metadata": {},
     "output_type": "execute_result"
    }
   ],
   "source": [
    "acquire_inshorts_news(file_name)"
   ]
  },
  {
   "cell_type": "code",
   "execution_count": null,
   "metadata": {},
   "outputs": [],
   "source": []
  }
 ],
 "metadata": {
  "kernelspec": {
   "display_name": "Python 3",
   "language": "python",
   "name": "python3"
  },
  "language_info": {
   "codemirror_mode": {
    "name": "ipython",
    "version": 3
   },
   "file_extension": ".py",
   "mimetype": "text/x-python",
   "name": "python",
   "nbconvert_exporter": "python",
   "pygments_lexer": "ipython3",
   "version": "3.7.4"
  },
  "toc": {
   "base_numbering": 1,
   "nav_menu": {},
   "number_sections": true,
   "sideBar": true,
   "skip_h1_title": false,
   "title_cell": "Table of Contents",
   "title_sidebar": "Contents",
   "toc_cell": false,
   "toc_position": {},
   "toc_section_display": true,
   "toc_window_display": false
  }
 },
 "nbformat": 4,
 "nbformat_minor": 2
}
