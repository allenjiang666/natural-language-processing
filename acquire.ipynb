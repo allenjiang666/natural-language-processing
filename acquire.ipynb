{
 "cells": [
  {
   "cell_type": "markdown",
   "metadata": {},
   "source": [
    "# Aquire Exercise\n",
    "By the end of this exercise, you should have a file named `acquire.py` that contains the specified functions. If you wish, you may break your work into separate files for each website (e.g. acquire_codeup_blog.py and acquire_news_articles.py), but the end function should be present in acquire.py (that is, acquire.py should import get_blog_articles from the acquire_codeup_blog module.)"
   ]
  },
  {
   "cell_type": "markdown",
   "metadata": {},
   "source": [
    "#  Note\n",
    "Use command F + 'class', then find the content us the class label. refer to ln [18],ln [19]"
   ]
  },
  {
   "cell_type": "code",
   "execution_count": 1,
   "metadata": {},
   "outputs": [],
   "source": [
    "from requests import get\n",
    "from bs4 import BeautifulSoup\n",
    "import os"
   ]
  },
  {
   "cell_type": "markdown",
   "metadata": {},
   "source": [
    "Codeup Blog Articles\n",
    "\n",
    "Scrape the article text from the following pages:\n",
    "\n",
    "- https://codeup.com/codeups-data-science-career-accelerator-is-here/\n",
    "- https://codeup.com/data-science-myths/\n",
    "- https://codeup.com/data-science-vs-data-analytics-whats-the-difference/\n",
    "- https://codeup.com/10-tips-to-crush-it-at-the-sa-tech-job-fair/\n",
    "- https://codeup.com/competitor-bootcamps-are-closing-is-the-model-in-danger/\n",
    "\n",
    "Encapsulate your work in a function named get_blog_articles that will return a list of dictionaries, with each dictionary representing one article. The shape of each dictionary should look like this:\n",
    "\n",
    ">{\n",
    "    'title': 'the title of the article',  \n",
    "    'content': 'the full text content of the article'\n",
    "}\n",
    "\n",
    "Plus any additional properties you think might be helpful.\n",
    "\n",
    "Bonus:\n",
    "\n",
    "Scrape the text of all the articles linked on codeup's blog page."
   ]
  },
  {
   "cell_type": "code",
   "execution_count": 2,
   "metadata": {},
   "outputs": [],
   "source": [
    "url = 'https://codeup.com/codeups-data-science-career-accelerator-is-here/'\n",
    "headers = {'User-Agent': 'Codeup Data Science'} # Some websites don't accept the pyhon-requests default user-agent\n",
    "response = get(url, headers=headers)"
   ]
  },
  {
   "cell_type": "code",
   "execution_count": 3,
   "metadata": {},
   "outputs": [
    {
     "name": "stdout",
     "output_type": "stream",
     "text": [
      "<!DOCTYPE html><html lang=\"en-US\"><head ><meta charset=\"UTF-8\" /><meta name=\"viewport\" content=\"width=device-width, initial-scale=1\" /> <script>function fvmuag(){if(navigator.userAgent.match(/x11.*fox\\/54|oid\\s4.*xus.*ome\\/62|oobot|ighth|tmetr|eadles|ingdo/i))return!1;if(navigator.userAgent.match(/x11.*ome\\/75\\.0\\.3770\\.100/i)){var e=screen.width,t=screen.height;if(\"number\"==typeof e&&\"number\"==ty\n"
     ]
    }
   ],
   "source": [
    "print(response.text[:400])"
   ]
  },
  {
   "cell_type": "code",
   "execution_count": 4,
   "metadata": {},
   "outputs": [],
   "source": [
    "soup = BeautifulSoup(response.content, 'html.parser')"
   ]
  },
  {
   "cell_type": "code",
   "execution_count": 5,
   "metadata": {},
   "outputs": [
    {
     "data": {
      "text/plain": [
       "'Codeup’s Data Science Career Accelerator is Here! - Codeup'"
      ]
     },
     "execution_count": 5,
     "metadata": {},
     "output_type": "execute_result"
    }
   ],
   "source": [
    "title = soup.title.text\n",
    "title"
   ]
  },
  {
   "cell_type": "code",
   "execution_count": 6,
   "metadata": {},
   "outputs": [
    {
     "data": {
      "text/plain": [
       "'The rumors are true! The time has arrived. Codeup has officially opened applications to our new Data'"
      ]
     },
     "execution_count": 6,
     "metadata": {},
     "output_type": "execute_result"
    }
   ],
   "source": [
    "content = soup.find('div', class_='jupiterx-post-content')\n",
    "content.text[:100]"
   ]
  },
  {
   "cell_type": "code",
   "execution_count": 7,
   "metadata": {
    "scrolled": true
   },
   "outputs": [],
   "source": [
    "blog={'title':title,\n",
    "     'content':content}"
   ]
  },
  {
   "cell_type": "code",
   "execution_count": 8,
   "metadata": {},
   "outputs": [],
   "source": [
    "blogs=[]\n",
    "blogs.append(blog)"
   ]
  },
  {
   "cell_type": "code",
   "execution_count": 9,
   "metadata": {},
   "outputs": [],
   "source": [
    "urls = ['https://codeup.com/codeups-data-science-career-accelerator-is-here/',\n",
    "'https://codeup.com/data-science-myths/',\n",
    "'https://codeup.com/data-science-vs-data-analytics-whats-the-difference/',\n",
    "'https://codeup.com/10-tips-to-crush-it-at-the-sa-tech-job-fair/',\n",
    "'https://codeup.com/competitor-bootcamps-are-closing-is-the-model-in-danger/']"
   ]
  },
  {
   "cell_type": "code",
   "execution_count": 10,
   "metadata": {},
   "outputs": [],
   "source": [
    "def acquire_codeup_blog(urls):\n",
    "    blogs=[]\n",
    "    for url in urls:\n",
    "        headers = {'User-Agent': 'Codeup Data Science'} # Some websites don't accept the pyhon-requests default user-agent\n",
    "        response = get(url, headers=headers)\n",
    "        soup = BeautifulSoup(response.content, 'html.parser')\n",
    "        title = soup.title.text\n",
    "        content = soup.find('div', class_='jupiterx-post-content').text\n",
    "        blog={'title':title,'content':content}\n",
    "        blogs.append(blog)\n",
    "    return blogs\n",
    "    \n",
    "    "
   ]
  },
  {
   "cell_type": "code",
   "execution_count": 11,
   "metadata": {
    "scrolled": false
   },
   "outputs": [
    {
     "data": {
      "text/plain": [
       "'Codeup’s Data Science Career Accelerator is Here! - Codeup'"
      ]
     },
     "execution_count": 11,
     "metadata": {},
     "output_type": "execute_result"
    }
   ],
   "source": [
    "acquire_codeup_blog(urls)[0]['title']"
   ]
  },
  {
   "cell_type": "markdown",
   "metadata": {},
   "source": [
    "# Exercise 2\n",
    "News Articles\n",
    "\n",
    "We will now be scraping text data from inshorts, a website that provides a brief overview of many different topics.\n",
    "\n",
    "Write a function that scrapes the news articles for the following topics:\n",
    "\n",
    "- Business\n",
    "- Sports\n",
    "- Technology\n",
    "- Entertainment\n",
    "\n",
    "The end product of this should be a function named get_news_articles that returns a list of dictionaries, where each dictionary has this shape:\n",
    "\n",
    "> {  \n",
    "    'title': 'The article title',  \n",
    "    'content': 'The article content',  \n",
    "    'category': 'business' # for example  \n",
    "}\n",
    "\n",
    "Hints:\n",
    "\n",
    "1. Start by inspecting the website in your browser. Figure out which elements will be useful.\n",
    "2. Start by creating a function that handles a single article and produces a dictionary like the one above.\n",
    "3. Next create a function that will find all the articles on a single page and call the function you created in the last step for every article on the page.\n",
    "4. Now create a function that will use the previous two functions to scrape the articles from all the pages that you need, and do any additional processing that needs to be done.\n"
   ]
  },
  {
   "cell_type": "code",
   "execution_count": 12,
   "metadata": {},
   "outputs": [],
   "source": [
    "url = 'https://www.cnbc.com/2020/05/22/new-covid-cases-and-lack-of-reliable-testing-are-problems-for-automakers.html'\n",
    "headers = {'User-Agent': 'Codeup Data Science'} # Some websites don't accept the pyhon-requests default user-agent\n",
    "response = get(url, headers=headers)"
   ]
  },
  {
   "cell_type": "code",
   "execution_count": 13,
   "metadata": {},
   "outputs": [],
   "source": [
    "soup = BeautifulSoup(response.content, 'html.parser')"
   ]
  },
  {
   "cell_type": "code",
   "execution_count": 14,
   "metadata": {},
   "outputs": [
    {
     "data": {
      "text/plain": [
       "'New Covid cases and lack of reliable testing are problems for automakers'"
      ]
     },
     "execution_count": 14,
     "metadata": {},
     "output_type": "execute_result"
    }
   ],
   "source": [
    "title = soup.title.text\n",
    "title"
   ]
  },
  {
   "cell_type": "code",
   "execution_count": 15,
   "metadata": {},
   "outputs": [],
   "source": [
    "content = soup.find_all('div', class_='group')"
   ]
  },
  {
   "cell_type": "code",
   "execution_count": 16,
   "metadata": {
    "scrolled": false
   },
   "outputs": [
    {
     "name": "stdout",
     "output_type": "stream",
     "text": [
      "At least three workers with Ford at plants in Illinois and Michigan tested positive for Covid-19 this week, causing temporary shutdowns of the plants.Every positive case is not expected to result in a shutdown, but it's likely to be an ongoing issue for the foreseeable future.While automakers have implemented extensive safety protocols to lower the spread of Covid-19, they can't control what employees do outside work.\n",
      "It wasn't a matter of if but when someone with Covid-19 would unknowingly enter an car factory as tens of thousands of autoworkers returned to work this week.And it only took two days.At least three Ford Motor employees at plants in Illinois and Michigan tested positive for the disease this week, causing temporary shutdowns for deep cleaning. The shutdowns were within days of the plants' reopening after being shuttered since March due to the coronavirus pandemic.Production interruptions because of new infections is expected to be an ongoing issue for the foreseeable future as plants across the country continue to ramp up manufacturing.\"This is going to be rocky,\" said Kristin Dziczek, vice president of industry, labor and economics at the Center for Automotive Research. \"You're looking for a sustained path to full production with some bumps in the road, and these are bumps in the road.\"While automakers have implemented extensive safety protocols to minimize the spread of Covid-19 on the factory floor, they can't control what employees do outside of work. U.S. health officials say some carriers of the disease can be asymptomatic, making it difficult to detect who has the disease without testing.\"It's not a matter of necessarily creating a condition where it's impossible for anyone to get sick,\" said Stephanie Brinley, principal automotive analyst at IHS Markit. \"What they're creating is an environment with which to handle it if something does happen, and to handle it quickly.\"\n",
      "That's what happened at the Ford plants Tuesday and Wednesday, according to company officials. As soon as the employees exhibited potential symptoms, they were tested and quarantined. Those around them were also asked to self-quarantine for 14 days, the company said. While exact details are scarce due to health privacy laws, a person familiar with the situation said the employees began showing symptoms while working separate shifts at Ford's Chicago Assembly plant and were sent to a hospital for testing.\"Protocols are in place to help stop the spread of the virus,\" the company said in a statement. Studies show it takes five to 12 days for symptoms to show in most patients. Given the incubation time of the disease, the company said the employees did not contract Covid-19 at work.General Motors and Fiat Chrysler declined to disclose how many employees have been tested since they started reopening factories on Monday. Neither company has closed plants this week.\n",
      "\"We have not had an instance of community spread in one of our facilities to date, our production restart has gone smoothly and our health and safety protocols are working,\" GM said in an emailed statement. \"As we always have, if there are individuals who are identified as having been exposed to COVID-19 or who turn out to have COVID-19 symptoms at a GM facility, we will take appropriate action to protect everyone's health because the safety of our team is our overriding priority.\"A Fiat Chrysler spokeswoman said no employees have tested positive since production restarted Monday. GM declined to comment on positive tests. \n",
      "The Detroit automakers, pressured by the United Auto Workers union, have been the most open to testing employees for Covid-19 compared with other automakers.While each has slightly different procedures and safety protocols, they have the same goal: Identify anyone with the disease as quickly as possible and reduce the risk of them spreading it to others.The protocols include alerting a supervisor of any symptoms, testing and, if positive, quarantining for 14 days. The companies also will deep clean affected work spaces and track down everyone who came in contact with the infected person. Those people may also need to quarantine, depending on the interaction.\n",
      "Automakers won't necessarily have to completely shut down plants for every positive test.\"It depends on how much that person who tested positive moved about the plant and were exposed to other people,\" Dziczek said. \"They need to clean where they've been.\"GM has testing kits at each of its plants. It also has established relationships with companies such as LabCorp and Sonic Healthcare to receive results within 48 hours.Ford and Fiat Chrysler don't have testing at plants. They instead formed relationships with hospitals such as Beaumont Health, Michigan's largest hospital system, to conduct testing of workers who are believed to have contracted the disease.\"We've spent a lot of time researching testing and testing options with external health experts,\" Ford Chief Human Resources Officer Kiersten Robinson told reporters on April 30. \"The bottom line is based on all the information we have access to, we will not have a reliable and scalable testing solution for several weeks, and it may even be months.\"Robinson said the company created a task force of employees to partner with health and academic institutions \"to fast track and progress a testing solution.\"  \"This is a key priority for us,\" she said. \"Longer term, we do think it's going to be critical.\"\n",
      "To assist in detecting employees with Covid-19 prior to them entering plants, the Detroit automakers and others have implemented pre-work questionnaires and body temperature checks upon arrival.To reduce the spread of the disease, significant safety protocols have been put in place and workstations have been redesigned. Employees also must wear face masks or face shields and are urged to social distance during breaks, lunch and whenever possible.\n",
      "The UAW pushed for mass testing for all of its roughly 150,000 members with GM, Ford and Fiat Chrysler before the plants reopened.Due to the costs, reliability and complexity of such a process as well as a shortage of tests, the automakers and union compromised on the current testing protocols to reopen. But UAW President Rory Gamble is pushing for as much testing as possible.\"In terms of testing, I have said to all of our employers that we expect a commitment from them for full testing as soon as it is possible,\" he wrote in an open letter to members earlier this month. \"Until then, we expect as much testing as is possible to be conducted.\"\n",
      "The letter was to address questions surrounding the International UAW, which oversees all of the local chapters across the country, conducting testing on its 400 or so employees in Michigan.\"We must lead by example in this unprecedented situation,\" Gamble wrote.UAW staffers received nasal swab and serological tests to determine if they had or have the disease. Only six employees tested positive, according to the union.For now, the Detroit automakers remain skeptical of mass testing. Gerald Johnson, GM executive vice president of Global Manufacturing, told CNBC last month that mass testing \"is impractical\" and \"not even the smart thing to do.\" GM spokesman Jim Cain on Thursday reaffirmed the company's position: \"If all the protocols are followed, mass testing isn't necessary,\" he said.Fiat Chrysler spokeswoman Jodi Tinson said in an email Thursday: \"At this time, there is no reliable, scalable test available to test asymptomatic employees every day. We will continue to monitor new developments in testing and will look for more capability if it becomes available.\"\n",
      "\n"
     ]
    }
   ],
   "source": [
    "a=''\n",
    "for x in content:\n",
    "    a=a+x.text+'\\n'\n",
    "    \n",
    "print(a)"
   ]
  },
  {
   "cell_type": "code",
   "execution_count": 17,
   "metadata": {},
   "outputs": [
    {
     "data": {
      "text/plain": [
       "'Which superstars and teams will be in the NBA bubble? That debate is heating up'"
      ]
     },
     "execution_count": 17,
     "metadata": {},
     "output_type": "execute_result"
    }
   ],
   "source": [
    "url = 'https://www.espn.com/nba/story/_/id/29223585/which-superstars-teams-the-nba-bubble-debate-heating-up'\n",
    "headers = {'User-Agent': 'Codeup Data Science'} # Some websites don't accept the pyhon-requests default user-agent\n",
    "response = get(url, headers=headers)\n",
    "soup = BeautifulSoup(response.content, 'html.parser')\n",
    "title = soup.title.text\n",
    "title"
   ]
  },
  {
   "cell_type": "code",
   "execution_count": 18,
   "metadata": {
    "scrolled": false
   },
   "outputs": [
    {
     "data": {
      "text/plain": [
       "b'<!DOCTYPE html>\\n<html>\\n\\t<head>\\n\\t\\t<meta http-equiv=\"content-type\" content=\"text/html; charset=UTF-8\" />\\n<meta http-equiv=\"x-ua-compatible\" content=\"IE=edge,chrome=1\" />\\n<meta name=\"viewport\" content=\"initial-scale=1.0, maximum-scale=1.0, user-scalable=no\">\\n<meta name=\"referrer\" content=\"origin-when-cross-origin\">\\n<link rel=\"canonical\" href=\"https://www.espn.com/nba/story/_/id/29223585/which-superstars-teams-the-nba-bubble-debate-heating-up\" />\\n<link rel=\"amphtml\" href=\"https://www.espn.com/nba/story/_/id/29223585/which-superstars-teams-the-nba-bubble-debate-heating-up?platform=amp\">\\n<title>Which superstars and teams will be in the NBA bubble? That debate is heating up</title>\\n<meta name=\"description\" content=\"As June approaches, there are still plenty of questions about who\\'ll be invited when the NBA resumes the 2019-20 season.\" />\\n<meta name=\"news_keywords\" content=\"NBA, daily\" />\\n<meta name=\"keywords\" content=\"NBA, daily\" />\\n<meta name=\"DC.date.issued\" content=\"2020-05-26T16:00:00Z\">\\n<meta property=\"fb:app_id\" content=\"116656161708917\" />\\n<meta property=\"og:site_name\" content=\"ESPN.com\" />\\n<meta property=\"og:url\" content=\"https://www.espn.com/nba/story/_/id/29223585/which-superstars-teams-the-nba-bubble-debate-heating-up\" />\\n<meta property=\"og:title\" content=\"Which superstars and teams will be in the NBA bubble? That debate is heating up\"/>\\n<meta property=\"og:description\" content=\"As June approaches, there are still plenty of questions about who\\'ll be invited when the NBA resumes the 2019-20 season.\" />\\n<meta property=\"og:image\" content=\"https://a3.espncdn.com/combiner/i?img=%2Fphoto%2F2018%2F1204%2Fr472852_1296x729_16%2D9.jpg\"/>\\n<meta property=\"og:image:width\" content=\"1296\" />\\n<meta property=\"og:image:height\" content=\"729\" />\\n<meta property=\"og:type\" content=\"article\" />\\n<meta property=\"article:opinion\" content=\"false\" />\\n<meta property=\"article:content_tier\" content=\"free\" />\\n<meta property=\"fb:pages\" content=\"104266592953439\" />\\n<meta name=\"twitter:site\" content=\"espn\" />\\n<meta name=\"twitter:url\" content=\"https://www.espn.com/nba/story/_/id/29223585/which-superstars-teams-the-nba-bubble-debate-heating-up\" />\\n<meta name=\"twitter:title\" content=\"Which superstars and teams will be in the NBA bubble? That debate is heating up\"/>\\n<meta name=\"twitter:description\" content=\"As June approaches, there are still plenty of questions about who\\'ll be invited when the NBA resumes the 2019-20 season.\" />\\n<meta name=\"twitter:card\" content=\"summary_large_image\">\\n<meta name=\"twitter:app:name:iphone\" content=\"ESPN\"/>\\n<meta name=\"twitter:app:id:iphone\" content=\"317469184\"/>\\n<meta name=\"twitter:app:url:iphone\" content=\"sportscenter://x-callback-url/showStory?uid=29223585\"/>\\n<meta name=\"twitter:app:name:googleplay\" content=\"ESPN\"/>\\n<meta name=\"twitter:app:id:googleplay\" content=\"com.espn.score_center\"/>\\n<meta name=\"twitter:app:url:googleplay\" content=\"sportscenter://x-callback-url/showStory?uid=29223585\"/>\\n<meta name=\"title\" content=\"Which superstars and teams will be in the NBA bubble? That debate is heating up\"/>\\n<meta name=\"medium\" content=\"article\" />\\n<meta name=\"apple-itunes-app\" content=\"app-id=317469184, app-argument=sportscenter://x-callback-url/showStory?uid=29223585\"/>\\n<!-- Indicate preferred brand name for Google to display -->\\n<script type=\"application/ld+json\">\\n\\t{\\n\\t\\t\"@context\": \"https://schema.org\",\\n\\t\\t\"@type\":    \"WebSite\",\\n\\t\\t\"name\":     \"ESPN\",\\n\\t\\t\"url\":      \"https://www.espn.com/\"\\n\\t}\\n</script>\\n<script type=\"application/ld+json\">{\"@context\":\"http://schema.org\",\"@type\":\"NewsArticle\",\"mainEntityOfPage\":{\"@type\":\"WebPage\",\"@id\":\"https://www.espn.com/nba/story/_/id/29223585/which-superstars-teams-the-nba-bubble-debate-heating-up\"},\"headline\":\"Which superstars and teams will be in the NBA bubble? That debate is heating up\",\"description\":\"As June approaches, there are still plenty of questions about who\\'ll be invited when the NBA resumes the 2019-20 season.\",\"datePublished\":\"2020-05-26T16:00:00Z\",\"dateModified\":\"2020-05-26T16:00:00Z\",\"image\":{\"@type\":\"ImageObject\",\"url\":\"https://a.espncdn.com/photo/2018/1204/r472852_1296x729_16-9.jpg\",\"width\":1296,\"height\":729},\"author\":{\"@type\":\"Person\",\"name\":\"Adrian Wojnarowski\"},\"publisher\":{\"@type\":\"organization\",\"name\":\"ESPN\",\"logo\":{\"@type\":\"ImageObject\",\"url\":\"https://a.espncdn.com/combiner/i?img=/i/espn/espn_logos/amp/ESPN_amp.png&w=600&h=60\",\"width\":107,\"height\":60}}}</script>\\n\\n\\n<link rel=\"stylesheet\" href=\"https://a.espncdn.com/redesign/0.496.4/css/featurephone/style.css\" type=\"text/css\" />\\n\\n\\n\\n\\t</head>\\n\\t<body class=\"\" style=\"margin: 0 auto; padding: 0;max-width:800px\">\\n\\t\\t<a id=\"top\"></a>\\n\\t\\t<div style=\"max-height: 1px; position: absolute;\"><img id=\"omniture\" src=\"https://sw88.espn.com/b/ss/wdgespcom,wdgespge/1/JS-1.6.1/s1590594610167?AQB=1&amp;ndh=1&amp;t=27%2F4%2F2020%208%3A50%3A10%203%20420&amp;server=https://www.espn.com/&amp;ns=espn&amp;ce=ISO-8859-1&amp;cc=USD&amp;cdp=2&amp;c5=espn%3Anba%3Astory&amp;c12=espn%3Anba%3Astory&amp;v11=story%3Aespn%3Anba&amp;c22=unknown&amp;c6=Cookies+Not+Supported&amp;c61=%5BNBA%2C+daily%5D&amp;c2=D%3DSWID&amp;ch=espn%3Anba&amp;pageName=espn%3Anba%3Astory&amp;v13=espn%3Anba%3Astory&amp;h1=espn%3Anba%3Astory&amp;c30=premium-no&amp;v19=basketball&amp;v70=has+favorites%3Ano-fantasy%3Ano%3A-notifications%3Ano%3A-docking%3Ano%3A-autostart%3Ano&amp;c17=en_us&amp;v9=en_us&amp;c35=2020-05-26&amp;c4=story&amp;v23=unknown&amp;events=event3&amp;c58=isIndex%3Dfalse&amp;c23=wojnarowski_adrian&amp;v10=wojnarowski_adrian&amp;c38=portrait&amp;c26=nba&amp;v21=nba&amp;c16=en-us&amp;v12=en-us&amp;c24=Cookies+Not+Supported&amp;c37=Feature+Phone&amp;v37=Feature+Phone&amp;c29=anonymous&amp;c15=29223585%2Bwhich%2Bsuperstars%2Band%2Bteams%2Bwill%2Bbe%2Bin%2Bthe%2Bnba%2Bbubble%3F%2Bthat%2Bdebate%2Bis%2Bheating%2Bup&amp;v15=29223585%2Bwhich%2Bsuperstars%2Band%2Bteams%2Bwill%2Bbe%2Bin%2Bthe%2Bnba%2Bbubble%3F%2Bthat%2Bdebate%2Bis%2Bheating%2Bup&amp;v1=nba%3Astory&amp;v7=unknown%3Aunknown%3ARegistered%3ANot+Logged+Passive%3Aanonymous%3Apremium-no&amp;v38=D%3Dc38&amp;c11=anonymous%3Apremium-no&amp;c1=espn&amp;g=www.espn.com%2Fnba%2Fstory%2F_%2Fid%2F29223585%2Fwhich-superstars-teams-the-nba-bubble-debate-heating-up&amp;c21=unknown&amp;c25=basketball&amp;v28=D%3Dc38&amp;AQE=1\" alt=\"\" width=\"1\" height=\"1\" /></div>\\n<table class=\"header espn\" width=\"100%\" border=\"0\" cellpadding=\"8\" cellspacing=\"0\">\\n    <tr align=\"center\" bgcolor=\"#cc0000\">\\n        <td class=\"logo\" valign=\"middle\" align=\"left\" style=\"width:35%\" >\\n            <a href=\"/core/scoreboard?device=featurephone\">\\n                <img src=\"https://a.espncdn.com/redesign/assets/img/featurephone/espn-logo.png\" width=\"45\" height=\"11\"/>\\n            </a>\\n        </td>\\n        \\n        <td class=\"sportsNav\" align=\"center\" bgcolor=\"#272727\" style=\"background-color: #272727; border-left:1px solid #eee;\">\\n            <a href=\"/core/sports?device=featurephone&device=featurephone\" id=\"sportsButton\">\\n                NBA <span class=\"caret\"><img src=\"https://a.espncdn.com/redesign/assets/img/featurephone/caret-closed.png\"></span>\\n            </a>\\n        </td>\\n        \\n\\t        <td class=\"sportsNav\" align=\"center\" bgcolor=\"#272727\" style=\"background-color: #272727; border-left:1px solid #eee;\">\\n\\t            <a href=\"/core/nba/teams?device=featurephone&device=featurephone\" id=\"sportsButton\">\\n\\t                teams <span class=\"caret\"><img src=\"https://a.espncdn.com/redesign/assets/img/featurephone/caret-closed.png\"></span>\\n\\t            </a>\\n\\t        </td>\\n\\t\\t\\n    </tr>\\n</table>\\n\\n\\n\\n\\t\\t\\n\\t\\t<table class=\"menu  espn\" width=\"100%\" border=\"0\" cellpadding=\"0\" cellspacing=\"0\" bgcolor=\"#ffffff\" style=\"background-color: #ffffff;\">\\n\\t\\t\\t<tbody>\\n\\t\\t\\t\\t<tr>\\n\\t\\t\\t\\t\\t<td colspan=\"5\" height=\"8\"></td>\\n\\t\\t\\t\\t</tr>\\n\\n\\t\\t\\t\\t<tr align=\"center\">\\n\\t\\t\\t\\t\\t<td width=\"2%\">&nbsp;</td>\\n\\t\\t\\t\\t\\t\\n\\t\\t\\t\\t\\t\\t<td width=\"32%\"><a href=\"/nba/scoreboard?device=featurephone\" >scores</a></td>\\n\\t\\t\\t\\t\\t\\n\\t\\t\\t\\t\\t\\t<td width=\"32%\"><a href=\"/nba/?device=featurephone\"  class=\"active\">News</a></td>\\n\\t\\t\\t\\t\\t\\n\\t\\t\\t\\t\\t\\t<td width=\"32%\"><a href=\"/core/nba/standings?device=featurephone\" >Standings</a></td>\\n\\t\\t\\t\\t\\t\\n\\t\\t\\t\\t\\t<td width=\"2%\">&nbsp;</td>\\n\\t\\t\\t\\t</tr>\\n\\t\\t\\t\\t<tr>\\n\\t\\t\\t\\t\\t<td colspan=\"5\" height=\"8\"></td>\\n\\t\\t\\t\\t</tr>\\n\\t\\t\\t\\t<tr>\\n\\t\\t\\t\\t\\t<td height=\"4\"></td>\\n\\t\\t\\t\\t\\t\\n\\t\\t\\t\\t\\t\\t<td height=\"4\" ></td>\\n\\t\\t\\t\\t\\t\\n\\t\\t\\t\\t\\t\\t<td height=\"4\"  class=\"active-item\"></td>\\n\\t\\t\\t\\t\\t\\n\\t\\t\\t\\t\\t\\t<td height=\"4\" ></td>\\n\\t\\t\\t\\t\\t\\n\\t\\t\\t\\t\\t<td height=\"4\"></td>\\n\\t\\t\\t\\t</tr>\\n\\t\\t\\t</tbody>\\n\\t</table>\\n\\t\\t\\n\\n\\t\\t\\n\\t        <table class=\"story\" width=\"100%\" cellpadding=\"0\" cellspacing=\"0\" border=\"0\">\\n\\t            <tr>\\n\\t                <td width=\"8\"></td>\\n\\t                <td>\\n\\t                    <!-- Start Content -->\\n\\n\\t                    <table width=\"100%\" cellpadding=\"0\" cellspacing=\"0\" border=\"0\">\\n\\t                        <tr>\\n\\t                            <td height=\"8\"></td>\\n\\t                        </tr>\\n\\t                        <tr height=\"24\">\\n\\t                            <td align=\"left\">\\n\\t                                <span class=\"author\">Adrian Wojnarowski<span>, Senior NBA Insider </span></span>\\n\\t                            </td>\\n\\t                            <td align=\"right\">\\n\\t                            \\t<span class=\"date\">\\n\\t                            \\t\\t<span class=\"timestamp\">1d</span>\\n\\t                            \\t</span>\\n\\t                            </td>\\n\\t                        </tr>\\n\\t                        <tr>\\n\\t                            <td colspan=\"2\">\\n\\t                                <h1>Which superstars and teams will be in the NBA bubble? That debate is heating up</h1>\\n\\t                            </td>\\n\\t                        </tr>\\n\\t                        \\n\\t                        <tr height=\"32\">\\n\\t                            <td colspan=\"2\">\\n\\t\\t                        <a href=\"/nba/?device=featurephone\" data-mptype=\"category\">NBA</a>\\n\\t\\t\\t\\t\\t\\t\\t</tr>\\n\\t\\t\\t\\t\\t\\t\\t\\n\\t\\t\\t\\t\\t\\t\\t</table>\\n\\t\\t\\t\\t\\t\\t\\t\\n\\t\\t\\t\\t\\t\\t\\t<table class=\"social\" cellpadding=\"0\" cellspacing=\"0\" border=\"0\">\\n\\t\\t\\t\\t\\t\\t\\t\\t<tbody>\\n\\t\\t\\t\\t\\t\\t\\t\\t\\t<tr>\\n\\t\\t\\t\\t\\t\\t\\t\\t\\t<td width=\"20\" height=\"20\">\\n\\t\\t\\t\\t\\t\\t\\t\\t\\t\\t<a href=\"https://www.facebook.com/dialog/share?href=http%3A%2F%2Fwww.espn.com%2Fnba%2Fstory%2F_%2Fid%2F29223585%2Fwhich%2Dsuperstars%2Dteams%2Dthe%2Dnba%2Dbubble%2Ddebate%2Dheating%2Dup&app_id=116656161708917\" target=\"_blank\"><img src=\"https://a.espncdn.com/redesign/assets/img/featurephone/share-icon-fb.png\" width=\"20\"></a>\\n\\t\\t\\t\\t\\t\\t\\t\\t\\t</td>\\n\\t\\t\\t\\t\\t\\t\\t\\t\\t<td width=\"20\" height=\"20\">\\n\\t\\t\\t\\t\\t\\t\\t\\t\\t\\t<a href=\"http://twitter.com/intent/tweet?lang=en&url=http%3A%2F%2Fwww.espn.com%2Fnba%2Fstory%2F_%2Fid%2F29223585%2Fwhich%2Dsuperstars%2Dteams%2Dthe%2Dnba%2Dbubble%2Ddebate%2Dheating%2Dup&text=Which%20superstars%20and%20teams%20will%20be%20in%20the%20NBA%20bubble%3F%20That%20debate%20is%20heating%20up\" target=\"_blank\"><img src=\"https://a.espncdn.com/redesign/assets/img/featurephone/share-icon-tw.png\" width=\"20\"></a>\\n\\t\\t\\t\\t\\t\\t\\t\\t\\t</td>\\n\\t\\t\\t\\t\\t\\t\\t\\t\\t<td width=\"20\" height=\"20\">\\n\\t\\t\\t\\t\\t\\t\\t\\t\\t\\t<a href=\"whatsapp://send?text=Which%20superstars%20and%20teams%20will%20be%20in%20the%20NBA%20bubble%3F%20That%20debate%20is%20heating%20up%20website%3A%20http%3A%2F%2Fwww.espn.com%2Fnba%2Fstory%2F_%2Fid%2F29223585%2Fwhich-superstars-teams-the-nba-bubble-debate-heating-up\" target=\"_blank\"><img src=\"https://a.espncdn.com/redesign/assets/img/featurephone/wapp.png\" width=\"20\"></a>\\n\\t\\t\\t\\t\\t\\t\\t\\t\\t</td>\\n\\t\\t\\t\\t\\t\\t\\t\\t\\t</tr>\\n\\t\\t\\t\\t\\t\\t\\t\\t</tbody>\\n\\t\\t\\t\\t\\t\\t\\t</table>\\n\\t\\t\\t\\t\\t\\t\\t\\n\\t                    \\t<table width=\"100%\" cellpadding=\"0\" cellspacing=\"0\" border=\"0\">\\n\\t                   \\t    <tr>\\n\\t                            <td colspan=\"2\">\\n\\t                                <img src=\"https://a2.espncdn.com/combiner/i?img=%2Fmedia%2Fmotion%2F2020%2F0526%2Fdm_200526_WOJ_HOW_NBA_WILL_DETERMINE_NBA_PLAYOFF_BUBBLE_TEAMS%2Fdm_200526_WOJ_HOW_NBA_WILL_DETERMINE_NBA_PLAYOFF_BUBBLE_TEAMS.jpg&w=320&h=180&scale=crop&location=origin\" width=\"100%\" class=\"video\"/>\\n\\t                            </td>\\n\\t                        </tr>\\n\\t                        <tr>\\n\\t                            <td colspan=\"2\" height=\"16\"></td>\\n\\t                        </tr>\\n\\t                        <tr>\\n\\t                            <td colspan=\"2\" height=\"1\" bgcolor=\"#cccccc\" style=\"background-color: #cccccc\"></td>\\n\\t                        </tr>\\n\\t                        <tr>\\n\\t                            <td colspan=\"2\" height=\"16\"></td>\\n\\t                        </tr>\\n\\t                        <tr class=\"content\">\\n\\t                            <td colspan=\"2\">\\n\\t\\t\\t\\t\\t\\t\\t\\t\\t<p>The final, fleeting fight for 30 teams to resume the NBA\\'s season is raging through these last days of indecision. Hours of commissioner Adam Silver\\'s time are being spent engaging owners and high-level executives who are making the case for how the league should march into the summer\\'s playoffs, including those desiring the entire league to descend upon Orlando, Florida.</p><p>Some want a wide-open playoffs, a knockout round to give those teams who are among the worst a way to punch up into the play-in for the eighth seed. Some want every market -- New York and Chicago included -- invited into the fans\\' consciousness. And some are fearful of delivering the competitive disadvantage of a nine-month hiatus prior to the 2020-21 season to young, rebuilding franchises.</p><p>From all angles and agendas, there are appeals underway to Silver. The idea of 30 teams returning for the resumption of the season in Orlando has lost momentum, but it still has a significant lobby.</p><p>The Atlanta Hawks have the second-worst record in the Eastern Conference and the third-youngest roster. As a franchise, they\\'re chasing the chance to grow a young roster besieged with injuries and suspension -- and buoyed by a February deadline trade for center Clint Capela -- by getting back onto the floor.</p><p>The NBA and National Basketball Players Association have discussed a model of 30 teams returning to reach a target goal of 72 regular-season games, sources said. The Hawks, who had 10 players participate in voluntary workouts on Memorial Day, are the league\\'s closest to that total with 67 games played this season.</p><p>\"Our guys are excited about the opportunity to get back to it,\" Travis Schlenk, the Hawks\\' president of basketball operations and general manager, told ESPN. \"It has importance for us. We\\'re a young team, and because of injuries and some other things this season, we didn\\'t get to see them all together.</p><p>\"Clint says he\\'s feeling better, and there\\'s a possibility that we can get him back on the court. Practicing and playing five games would be valuable to us.\"</p><p>Cleveland is eager to play too. Another young roster, another franchise that needs to show improvement of its younger players. Detroit wants to get back to training camp and play games. New Orleans. Portland. Charlotte. Washington. Outside the playoff picture, there\\'s enthusiasm to play.</p><p>As everyone expected, of course, there isn\\'t unanimity on these issues. When the NBA and NBPA canvass teams at the bottom of the standings, they also hear ambivalence. Not one owner or GM is explicitly telling anyone they don\\'t want to play this season. Even so, there are enough players on enough bad teams who\\'ve shared the idea that they don\\'t see the value in several weeks of camp and quarantines to play five to eight regular-season games with no playoff potential.</p><p>Some lottery teams have also made it clear via back channels to the league that if their players are decidedly so-so on returning, there will be no showdown. Translated: If you need to keep us out, we\\'ll gladly keep our favorable lottery position. See you next season.</p><p>Privately, Silver has been considering the idea that there are plenty of sensible reasons to pare down the roster of teams in Orlando. First, there\\'s safety. Fewer teams, fewer people to contract or spread the coronavirus -- and less bad basketball. Even elite teams will be sloppy upon return, so what about the others?</p><inline1><p>There will be a lot more Damion Lee and Alen Smailagic than Stephen Curry and Draymond Green. In a normal year, no one would care about the Golden State Warriors playing out the final string of games in obscurity with young players. This time? It would represent the unveiling of the NBA\\'s return, and it would be precisely what the NBA doesn\\'t want: a bad television spectacle.</p><p>If anyone tells you the NBA knows exactly what it\\'s going to do, they\\'re probably ahead of themselves. This is still an open discussion, and there will be more debate on Thursday\\'s GM call with the league and Friday\\'s board of governors call. It\\'s possible the league could bring a recommendation to the owners on Friday, but that\\'s still uncertain. The NBA believes it has time to deliberate and discuss the matter. In fact, there\\'s a possibility the first games played in Orlando could be in August, not July, sources said.</p><p>In the end, the NBA will come to the NBPA with a couple of detailed scenarios, recommending one. They\\'ll do so after hundreds of hours of talks with union officials and players, a full download of data about the union\\'s preferences.</p><p>The league\\'s GM survey included a pool play option featuring somewhere between the 16 current playoff teams and the full body of 30 NBA teams, sources said. Teams would be divided into a certain number of groups and face each member of their group the same amount of times. (The total number of pool games has not yet been specified.) All of these would likely be branded as playoff games.</p><p>Based on the final standings within each group, eight teams would advance out of pool play into a bracket meant to mimic the league\\'s normal postseason structure, sources told ESPN\\'s Zach Lowe.</p><p>Several current postseason teams were not initially enthusiastic about that proposal, sources told Lowe. A slump in group play could result in what is currently a solid playoff team -- even one slated for home-court advantage in the first round of a normal postseason -- failing to advance into the eight-team tournament, while a present-day lottery team might get hot and make the final eight.</p><inline2><p>No one wants a product that embarrasses the NBA. Appealing to players only on a sense of duty for the league\\'s greater good isn\\'t going to work. Free agency is already fraught with peril this year -- and probably longer.</p><p>Some agents are hinting to GMs: Clients who\\'ve had good seasons on the way into free agency don\\'t want to risk undoing that success in a return. Those on contenders will have a hard time explaining why they\\'re not playing -- and virtually every one of them is too competitive and committed to sit out.</p><p>On mediocre and bad teams? Well, you\\'d have some players ducking out of a return -- especially if it\\'s just six to eight games. That has to be a significant part of the consideration for Silver.</p><p>There\\'s so much to examine, and so many factors that could leave teams feeling unfairly treated. The West\\'s No. 8 seed, Memphis, had its toughest stretch of games left this season. Portland, New Orleans and Sacramento are within 3.5 games of Memphis in the standings. Portland -- with Jusuf Nurkic and Zach Collins possibly returning -- and New Orleans -- with a well-conditioned Zion Williamson -- could be dangerous challengers in a play-in scenario.</p><p>Another factor in the wishy-washy nature of how unconvinced players on non-playoff teams could react to getting called back for a resumption: \"It isn\\'t like guys can run off to Vegas or Europe on vacation if we don\\'t play,\" one Eastern Conference GM said. \"There\\'s a level of boredom that makes guys more willing to play right now too.\"</p><inline3><p>There are still a number of ideas under discussion, including this one: bringing back the four Western Conference teams on the playoff bubble for play-in purposes, but none in the Eastern Conference, sources said.</p><p>\"Over the weekend, you\\'re getting a sense the league is starting to realize: Less is more,\" one high-ranking Eastern Conference executive told ESPN.</p><p>When the NBA feared losing the season completely in March, it was easier for owners, executives and players to hear Silver preparing everyone for how frustrated and aggrieved they might be once these choices are made. As everything moves closer to a return, it\\'s clearer that\\'ll be the case.</p><p>\"If we don\\'t show up, we lose more money,\" one starter on a non-playoff team told ESPN. \"We are already in the hole. And what message does it send to the public, the teams, the players that we are OK with 10 to 14 teams not playing? We already have a competition problem in the league.</p><p>\"My thing is, play 30 teams for as many games as possible for the money or go straight to the playoffs.\"</p><p>Adam Silver hears them all. And wherever he lands on the issue, whatever model he suggests to the owners and union that makes the most sense for all, the commissioner always did suspect how it would end: hard decisions leaving hurt feelings. This is a small part of the pandemic\\'s price to the NBA.</p><p><em><strong>MORE: Woj & Lowe Crossover Pod Part 1 | Part 2</strong></em></p>\\n\\n\\t                            </td>\\n\\t                        </tr>\\n\\t                        <tr>\\n\\t                            <td colspan=\"2\" height=\"16\"></td>\\n\\t                        </tr>\\n\\t                    </table>\\n\\n\\t                    <!-- End Content -->\\n\\t                </td>\\n\\t                <td width=\"8\"></td>\\n\\t            </tr>\\n\\t            \\n\\t        </table>\\n\\t\\n\\t\\t\\n\\t\\t\\n<a class=\"back-to-top\" href=\"#top\">^ Back to Top ^</a>\\n\\n\\t\\t\\n\\t<table class=\"footer\" border=\"0\" cellpadding=\"8\" cellspacing=\"0\" width=\"100%\">\\n\\t\\t<tr align=\"center\">\\n\\t\\t\\t<td class=\"copyright\">\\n\\t\\t\\t\\t<font size=\"1\">&copy; 2020 ESPN Internet Ventures. <a href=\"http://disneytermsofuse.com/\" target=\"_blank\">Terms of Use</a> and <a href=\"https://disneyprivacycenter.com/\" target=\"_blank\">Privacy Policy and Safety Information / Your California Privacy Rights</a> are applicable to you. All rights reserved.</font>\\n\\t\\t\\t</td>\\n\\t\\t</tr>\\n\\t\\t<tr>\\n\\t\\t\\t<td align=\"center\" class=\"copyright\">\\n\\t\\t\\t\\t<font size=\"1\"><strong>More From ESPN:</strong><br>\\n\\t\\t\\t\\t<a href=\"http://m.espn.go.com/deportes/index?lang=ES&wbj&iphone=false\">ESPN en Espa&ntilde;ol</a>\\n\\t\\t\\t\\t| <a href=\"https://theundefeated.com/\">The Undefeated</a>\\n\\t\\t\\t\\t| <a href=\"http://www.fivethirtyeight.com\">FiveThirtyEight</a>\\n\\t\\t\\t\\t| <a href=\"http://m.espn.go.com/soccer/?wjb=&iphone=false\">ESPN FC</a>\\n\\t\\t\\t\\t| <a href=\"http://www.espncricinfo.com/\">ESPNCricinfo</a>\\n\\t\\t\\t</font></td>\\n\\t\\t</tr>\\n\\t\\t<tr height=\"1\">\\n\\t\\t\\t<td></td>\\n\\t\\t</tr>\\n\\t</table>\\n\\n\\t</body>\\n</html>'"
      ]
     },
     "execution_count": 18,
     "metadata": {},
     "output_type": "execute_result"
    }
   ],
   "source": [
    "response.content"
   ]
  },
  {
   "cell_type": "code",
   "execution_count": 19,
   "metadata": {},
   "outputs": [],
   "source": [
    "content = soup.find('tr', class_= 'content' )"
   ]
  },
  {
   "cell_type": "code",
   "execution_count": 20,
   "metadata": {},
   "outputs": [
    {
     "name": "stdout",
     "output_type": "stream",
     "text": [
      "\n",
      "\n",
      "The final, fleeting fight for 30 teams to resume the NBA's season is raging through these last days of indecision. Hours of commissioner Adam Silver's time are being spent engaging owners and high-level executives who are making the case for how the league should march into the summer's playoffs, including those desiring the entire league to descend upon Orlando, Florida.Some want a wide-open playoffs, a knockout round to give those teams who are among the worst a way to punch up into the play-in for the eighth seed. Some want every market -- New York and Chicago included -- invited into the fans' consciousness. And some are fearful of delivering the competitive disadvantage of a nine-month hiatus prior to the 2020-21 season to young, rebuilding franchises.From all angles and agendas, there are appeals underway to Silver. The idea of 30 teams returning for the resumption of the season in Orlando has lost momentum, but it still has a significant lobby.The Atlanta Hawks have the second-worst record in the Eastern Conference and the third-youngest roster. As a franchise, they're chasing the chance to grow a young roster besieged with injuries and suspension -- and buoyed by a February deadline trade for center Clint Capela -- by getting back onto the floor.The NBA and National Basketball Players Association have discussed a model of 30 teams returning to reach a target goal of 72 regular-season games, sources said. The Hawks, who had 10 players participate in voluntary workouts on Memorial Day, are the league's closest to that total with 67 games played this season.\"Our guys are excited about the opportunity to get back to it,\" Travis Schlenk, the Hawks' president of basketball operations and general manager, told ESPN. \"It has importance for us. We're a young team, and because of injuries and some other things this season, we didn't get to see them all together.\"Clint says he's feeling better, and there's a possibility that we can get him back on the court. Practicing and playing five games would be valuable to us.\"Cleveland is eager to play too. Another young roster, another franchise that needs to show improvement of its younger players. Detroit wants to get back to training camp and play games. New Orleans. Portland. Charlotte. Washington. Outside the playoff picture, there's enthusiasm to play.As everyone expected, of course, there isn't unanimity on these issues. When the NBA and NBPA canvass teams at the bottom of the standings, they also hear ambivalence. Not one owner or GM is explicitly telling anyone they don't want to play this season. Even so, there are enough players on enough bad teams who've shared the idea that they don't see the value in several weeks of camp and quarantines to play five to eight regular-season games with no playoff potential.Some lottery teams have also made it clear via back channels to the league that if their players are decidedly so-so on returning, there will be no showdown. Translated: If you need to keep us out, we'll gladly keep our favorable lottery position. See you next season.Privately, Silver has been considering the idea that there are plenty of sensible reasons to pare down the roster of teams in Orlando. First, there's safety. Fewer teams, fewer people to contract or spread the coronavirus -- and less bad basketball. Even elite teams will be sloppy upon return, so what about the others?There will be a lot more Damion Lee and Alen Smailagic than Stephen Curry and Draymond Green. In a normal year, no one would care about the Golden State Warriors playing out the final string of games in obscurity with young players. This time? It would represent the unveiling of the NBA's return, and it would be precisely what the NBA doesn't want: a bad television spectacle.If anyone tells you the NBA knows exactly what it's going to do, they're probably ahead of themselves. This is still an open discussion, and there will be more debate on Thursday's GM call with the league and Friday's board of governors call. It's possible the league could bring a recommendation to the owners on Friday, but that's still uncertain. The NBA believes it has time to deliberate and discuss the matter. In fact, there's a possibility the first games played in Orlando could be in August, not July, sources said.In the end, the NBA will come to the NBPA with a couple of detailed scenarios, recommending one. They'll do so after hundreds of hours of talks with union officials and players, a full download of data about the union's preferences.The league's GM survey included a pool play option featuring somewhere between the 16 current playoff teams and the full body of 30 NBA teams, sources said. Teams would be divided into a certain number of groups and face each member of their group the same amount of times. (The total number of pool games has not yet been specified.) All of these would likely be branded as playoff games.Based on the final standings within each group, eight teams would advance out of pool play into a bracket meant to mimic the league's normal postseason structure, sources told ESPN's Zach Lowe.Several current postseason teams were not initially enthusiastic about that proposal, sources told Lowe. A slump in group play could result in what is currently a solid playoff team -- even one slated for home-court advantage in the first round of a normal postseason -- failing to advance into the eight-team tournament, while a present-day lottery team might get hot and make the final eight.No one wants a product that embarrasses the NBA. Appealing to players only on a sense of duty for the league's greater good isn't going to work. Free agency is already fraught with peril this year -- and probably longer.Some agents are hinting to GMs: Clients who've had good seasons on the way into free agency don't want to risk undoing that success in a return. Those on contenders will have a hard time explaining why they're not playing -- and virtually every one of them is too competitive and committed to sit out.On mediocre and bad teams? Well, you'd have some players ducking out of a return -- especially if it's just six to eight games. That has to be a significant part of the consideration for Silver.There's so much to examine, and so many factors that could leave teams feeling unfairly treated. The West's No. 8 seed, Memphis, had its toughest stretch of games left this season. Portland, New Orleans and Sacramento are within 3.5 games of Memphis in the standings. Portland -- with Jusuf Nurkic and Zach Collins possibly returning -- and New Orleans -- with a well-conditioned Zion Williamson -- could be dangerous challengers in a play-in scenario.Another factor in the wishy-washy nature of how unconvinced players on non-playoff teams could react to getting called back for a resumption: \"It isn't like guys can run off to Vegas or Europe on vacation if we don't play,\" one Eastern Conference GM said. \"There's a level of boredom that makes guys more willing to play right now too.\"There are still a number of ideas under discussion, including this one: bringing back the four Western Conference teams on the playoff bubble for play-in purposes, but none in the Eastern Conference, sources said.\"Over the weekend, you're getting a sense the league is starting to realize: Less is more,\" one high-ranking Eastern Conference executive told ESPN.When the NBA feared losing the season completely in March, it was easier for owners, executives and players to hear Silver preparing everyone for how frustrated and aggrieved they might be once these choices are made. As everything moves closer to a return, it's clearer that'll be the case.\"If we don't show up, we lose more money,\" one starter on a non-playoff team told ESPN. \"We are already in the hole. And what message does it send to the public, the teams, the players that we are OK with 10 to 14 teams not playing? We already have a competition problem in the league.\"My thing is, play 30 teams for as many games as possible for the money or go straight to the playoffs.\"Adam Silver hears them all. And wherever he lands on the issue, whatever model he suggests to the owners and union that makes the most sense for all, the commissioner always did suspect how it would end: hard decisions leaving hurt feelings. This is a small part of the pandemic's price to the NBA.MORE: Woj & Lowe Crossover Pod Part 1 | Part 2\n",
      "\n",
      "\n"
     ]
    }
   ],
   "source": [
    "print(content.text)"
   ]
  },
  {
   "cell_type": "code",
   "execution_count": 21,
   "metadata": {},
   "outputs": [],
   "source": [
    "content = soup.find_all('div', class_='group')"
   ]
  },
  {
   "cell_type": "code",
   "execution_count": null,
   "metadata": {},
   "outputs": [],
   "source": [
    "def acquire_news(urls):\n",
    "    blogs=[]\n",
    "    for url in urls:\n",
    "        headers = {'User-Agent': 'Codeup Data Science'} # Some websites don't accept the pyhon-requests default user-agent\n",
    "        response = get(url, headers=headers)\n",
    "        soup = BeautifulSoup(response.content, 'html.parser')\n",
    "        title = soup.title.text\n",
    "        content = soup.find('div', class_='jupiterx-post-content').text\n",
    "        blog={'title':title,'content':content}\n",
    "        blogs.append(blog)\n",
    "    return blogs\n",
    "    "
   ]
  }
 ],
 "metadata": {
  "kernelspec": {
   "display_name": "Python 3",
   "language": "python",
   "name": "python3"
  },
  "language_info": {
   "codemirror_mode": {
    "name": "ipython",
    "version": 3
   },
   "file_extension": ".py",
   "mimetype": "text/x-python",
   "name": "python",
   "nbconvert_exporter": "python",
   "pygments_lexer": "ipython3",
   "version": "3.7.4"
  },
  "toc": {
   "base_numbering": 1,
   "nav_menu": {},
   "number_sections": true,
   "sideBar": true,
   "skip_h1_title": false,
   "title_cell": "Table of Contents",
   "title_sidebar": "Contents",
   "toc_cell": false,
   "toc_position": {},
   "toc_section_display": true,
   "toc_window_display": false
  }
 },
 "nbformat": 4,
 "nbformat_minor": 2
}
